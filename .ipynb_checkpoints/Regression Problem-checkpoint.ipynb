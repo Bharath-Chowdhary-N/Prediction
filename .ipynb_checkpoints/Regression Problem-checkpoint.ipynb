{
 "cells": [
  {
   "cell_type": "code",
   "execution_count": 6,
   "id": "constant-announcement",
   "metadata": {},
   "outputs": [],
   "source": [
    "import numpy as np\n",
    "import matplotlib.pyplot as plt\n",
    "import tensorflow as tf\n",
    "import pandas as pd\n",
    "\n",
    "\n",
    "class print_format(text):\n",
    "        PURPLE = '\\033[95m'\n",
    "        CYAN = '\\033[96m'\n",
    "        DARKCYAN = '\\033[36m'\n",
    "        BLUE = '\\033[94m'\n",
    "        GREEN = '\\033[92m'\n",
    "        YELLOW = '\\033[93m'\n",
    "        RED = '\\033[91m'\n",
    "        BOLD = '\\033[1m'\n",
    "        UNDERLINE = '\\033[4m'\n",
    "        END = '\\033[0m'\n",
    "\n",
    "        print(print_format.BOLD + text + print_format.END)\n",
    "\n",
    "class Regression():\n",
    "    \n",
    "    def __init__(self,csv_file_name):\n",
    "        self.csv_file_name=csv_file_name\n",
    "        \n",
    "        self.dataframe()\n",
    "        \n",
    "        self.display_info()\n",
    "    \n",
    "    def dataframe(self):\n",
    "        self.df=pd.read_csv(self.csv_file_name)\n",
    "        return self\n",
    "    \n",
    "    def display_info(self):\n",
    "        #display data of first five rows\n",
    "        print(self.df.head())\n",
    "        print(\"\\n __________________________________________________\")\n",
    "        print(\"\\n\")\n",
    "        \n",
    "        \n",
    "        #display features and records\n",
    "        print(\"Features and Records\")\n",
    "        print(\"\\n\")\n",
    "        print(\"It has {} records and {} features\".format(self.df.shape[0],self.df.shape[1]))\n",
    "        print(\"\\n __________________________________________________\")\n",
    "        print(\"\\n\")\n",
    "        \n",
    "        #display if any null values\n",
    "        \n",
    "        print(\"Null Values\")\n",
    "        print(\"\\n\")\n",
    "        print(\"It has {} records and {} features\".format(self.df.shape[0],self.df.shape[1]))\n",
    "        print(\"\\n __________________________________________________\")\n",
    "        print(\"\\n\")\n",
    "        \n",
    "        \n",
    "        \n",
    "        return self\n",
    "    \n",
    "    def print_unique_features(self,name)\n",
    "        \n",
    "        print(obj.df[name].unique())\n",
    "        \n",
    "    "
   ]
  },
  {
   "cell_type": "code",
   "execution_count": 8,
   "id": "particular-demand",
   "metadata": {},
   "outputs": [
    {
     "name": "stdout",
     "output_type": "stream",
     "text": [
      "                       name  year  selling_price  km_driven    fuel  \\\n",
      "0             Maruti 800 AC  2007          60000      70000  Petrol   \n",
      "1  Maruti Wagon R LXI Minor  2007         135000      50000  Petrol   \n",
      "2      Hyundai Verna 1.6 SX  2012         600000     100000  Diesel   \n",
      "3    Datsun RediGO T Option  2017         250000      46000  Petrol   \n",
      "4     Honda Amaze VX i-DTEC  2014         450000     141000  Diesel   \n",
      "\n",
      "  seller_type transmission         owner  \n",
      "0  Individual       Manual   First Owner  \n",
      "1  Individual       Manual   First Owner  \n",
      "2  Individual       Manual   First Owner  \n",
      "3  Individual       Manual   First Owner  \n",
      "4  Individual       Manual  Second Owner  \n",
      "\n",
      " __________________________________________________\n",
      "\n",
      "\n",
      "Features and Records\n",
      "\n",
      "\n",
      "It has 4340 records and 8 features\n",
      "\n",
      " __________________________________________________\n",
      "\n",
      "\n"
     ]
    }
   ],
   "source": [
    "obj=Regression(\"car_details.csv\")"
   ]
  },
  {
   "cell_type": "code",
   "execution_count": 12,
   "id": "preceding-repair",
   "metadata": {},
   "outputs": [
    {
     "data": {
      "text/plain": [
       "array(['Manual', 'Automatic'], dtype=object)"
      ]
     },
     "execution_count": 12,
     "metadata": {},
     "output_type": "execute_result"
    }
   ],
   "source": []
  },
  {
   "cell_type": "code",
   "execution_count": null,
   "id": "muslim-sydney",
   "metadata": {},
   "outputs": [],
   "source": []
  }
 ],
 "metadata": {
  "kernelspec": {
   "display_name": "Python 3",
   "language": "python",
   "name": "python3"
  },
  "language_info": {
   "codemirror_mode": {
    "name": "ipython",
    "version": 3
   },
   "file_extension": ".py",
   "mimetype": "text/x-python",
   "name": "python",
   "nbconvert_exporter": "python",
   "pygments_lexer": "ipython3",
   "version": "3.8.5"
  }
 },
 "nbformat": 4,
 "nbformat_minor": 5
}
